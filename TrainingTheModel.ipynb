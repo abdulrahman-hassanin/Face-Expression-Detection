{
  "nbformat": 4,
  "nbformat_minor": 0,
  "metadata": {
    "colab": {
      "name": "TrainingTheMoel.ipynb",
      "version": "0.3.2",
      "provenance": [],
      "collapsed_sections": []
    },
    "kernelspec": {
      "name": "python3",
      "display_name": "Python 3"
    }
  },
  "cells": [
    {
      "cell_type": "code",
      "metadata": {
        "id": "tlcXf2T8_7gI",
        "colab_type": "code",
        "outputId": "9df683de-9c80-44d3-9247-3b5f57e833a1",
        "colab": {
          "base_uri": "https://localhost:8080/",
          "height": 34
        }
      },
      "source": [
        "from google.colab import drive\n",
        "drive.mount('/content/drive')"
      ],
      "execution_count": 1,
      "outputs": [
        {
          "output_type": "stream",
          "text": [
            "Drive already mounted at /content/drive; to attempt to forcibly remount, call drive.mount(\"/content/drive\", force_remount=True).\n"
          ],
          "name": "stdout"
        }
      ]
    },
    {
      "cell_type": "code",
      "metadata": {
        "id": "q7cRU7dy_8Xs",
        "colab_type": "code",
        "outputId": "971a98b4-fb92-4a8a-e6d7-11c1c558fb91",
        "colab": {
          "base_uri": "https://localhost:8080/",
          "height": 34
        }
      },
      "source": [
        "!ls '/content/drive/My Drive/Colab Notebooks/Emotion Dataset'"
      ],
      "execution_count": 2,
      "outputs": [
        {
          "output_type": "stream",
          "text": [
            "fer2013.csv  light.csv\n"
          ],
          "name": "stdout"
        }
      ]
    },
    {
      "cell_type": "code",
      "metadata": {
        "id": "IAG2Zn3nEKBF",
        "colab_type": "code",
        "outputId": "9c330298-da5d-4674-e97a-de9a34ece0f0",
        "colab": {
          "base_uri": "https://localhost:8080/",
          "height": 34
        }
      },
      "source": [
        "import keras\n",
        "import sys, os, shutil\n",
        "from keras import layers\n",
        "from keras import models\n",
        "from keras import optimizers\n",
        "from keras.preprocessing.image import ImageDataGenerator\n",
        "import matplotlib.pyplot as plt\n",
        "from keras import regularizers\n",
        "from keras.utils.np_utils import to_categorical\n",
        "import csv\n",
        "from itertools import islice\n",
        "from math import ceil\n",
        "import numpy as np\n",
        "from keras import regularizers\n",
        "import pandas as pd\n",
        "from sklearn.utils import shuffle"
      ],
      "execution_count": 3,
      "outputs": [
        {
          "output_type": "stream",
          "text": [
            "Using TensorFlow backend.\n"
          ],
          "name": "stderr"
        }
      ]
    },
    {
      "cell_type": "code",
      "metadata": {
        "id": "3ThBsUYOEdfE",
        "colab_type": "code",
        "colab": {}
      },
      "source": [
        "data = pd.read_csv('/content/drive/My Drive/Colab Notebooks/Emotion Dataset/fer2013.csv')"
      ],
      "execution_count": 0,
      "outputs": []
    },
    {
      "cell_type": "code",
      "metadata": {
        "id": "Wvhq9-3FE27w",
        "colab_type": "code",
        "colab": {}
      },
      "source": [
        "# Simplify the emotions\n",
        "l1 = data.loc[data['emotion'] == 0]  # Angry\n",
        "l2 = data.loc[data['emotion'] == 3]  # Happy\n",
        "l3 = data.loc[data['emotion'] == 4]  # Sad\n",
        "l4 = data.loc[data['emotion'] == 6]  # Nuetral\n",
        "\n",
        "light = pd.concat([l1,l2,l3,l4])"
      ],
      "execution_count": 0,
      "outputs": []
    },
    {
      "cell_type": "code",
      "metadata": {
        "id": "CVI_dKRbFGtO",
        "colab_type": "code",
        "outputId": "37d02d8d-9d3d-41cb-fa08-e572e9a06364",
        "colab": {
          "base_uri": "https://localhost:8080/",
          "height": 101
        }
      },
      "source": [
        "# Fix values\n",
        "light.emotion.loc[(light['emotion'] == 3)] = 1\n",
        "light.emotion.loc[(light['emotion'] == 4)] = 2\n",
        "light.emotion.loc[(light['emotion'] == 6)] = 3\n",
        "\n",
        "# re-shuffle\n",
        "light = shuffle(light)"
      ],
      "execution_count": 6,
      "outputs": [
        {
          "output_type": "stream",
          "text": [
            "/usr/local/lib/python3.6/dist-packages/pandas/core/indexing.py:190: SettingWithCopyWarning: \n",
            "A value is trying to be set on a copy of a slice from a DataFrame\n",
            "\n",
            "See the caveats in the documentation: http://pandas.pydata.org/pandas-docs/stable/indexing.html#indexing-view-versus-copy\n",
            "  self._setitem_with_indexer(indexer, value)\n"
          ],
          "name": "stderr"
        }
      ]
    },
    {
      "cell_type": "code",
      "metadata": {
        "id": "P5IMo9f6JPrV",
        "colab_type": "code",
        "colab": {}
      },
      "source": [
        "training_data = light[light['Usage'].isin(['Training'])]\n",
        "testing_data = light[light['Usage'].isin(['PublicTest'])]\n"
      ],
      "execution_count": 0,
      "outputs": []
    },
    {
      "cell_type": "code",
      "metadata": {
        "id": "X-dNyOPOPtoB",
        "colab_type": "code",
        "outputId": "4e51663d-9fc4-48ee-ea19-f20236b5c5a7",
        "colab": {
          "base_uri": "https://localhost:8080/",
          "height": 50
        }
      },
      "source": [
        "print(training_data.shape)\n",
        "print(testing_data.shape)"
      ],
      "execution_count": 8,
      "outputs": [
        {
          "output_type": "stream",
          "text": [
            "(21005, 3)\n",
            "(2622, 3)\n"
          ],
          "name": "stdout"
        }
      ]
    },
    {
      "cell_type": "code",
      "metadata": {
        "id": "EKky7QT3RVBs",
        "colab_type": "code",
        "colab": {}
      },
      "source": [
        "train_data = training_data.iloc[:,1]\n",
        "train_labels = training_data.iloc[:,0]\n",
        "test_data = testing_data.iloc[:,1]\n",
        "test_labels = testing_data.iloc[:,0]"
      ],
      "execution_count": 0,
      "outputs": []
    },
    {
      "cell_type": "code",
      "metadata": {
        "id": "9r_IjFkkgCh6",
        "colab_type": "code",
        "colab": {}
      },
      "source": [
        "# convert string into int and normalize data\n",
        "X_train = []\n",
        "X_test = []\n",
        "for row in range(len(train_data)):\n",
        "  temp = np.fromstring(train_data.iloc[row], dtype=int, sep=\" \").reshape((48, 48, 1))\n",
        "  temp = temp/255.\n",
        "  temp = np.array(temp)\n",
        "  X_train.append(temp)\n",
        "  \n",
        "for row in range(len(test_data)):\n",
        "  temp = np.fromstring(test_data.iloc[row], dtype=int, sep=\" \").reshape((48, 48, 1))\n",
        "  temp = temp/255.\n",
        "  temp = np.array(temp)\n",
        "  X_test.append(temp)"
      ],
      "execution_count": 0,
      "outputs": []
    },
    {
      "cell_type": "code",
      "metadata": {
        "id": "zhPpy_NgRw2Z",
        "colab_type": "code",
        "colab": {}
      },
      "source": [
        "X_train = np.array(X_train)\n",
        "Y_train = np.array(train_labels)\n",
        "X_test = np.array(X_test)\n",
        "Y_test = np.array(test_labels)"
      ],
      "execution_count": 0,
      "outputs": []
    },
    {
      "cell_type": "code",
      "metadata": {
        "id": "XXwtW6sJsVHV",
        "colab_type": "code",
        "outputId": "8aa41fcf-0e08-42c1-cb69-6ff0b539819d",
        "colab": {
          "base_uri": "https://localhost:8080/",
          "height": 84
        }
      },
      "source": [
        "print(X_train.shape)\n",
        "print(Y_train.shape)\n",
        "print(X_test.shape)\n",
        "print(Y_test.shape)"
      ],
      "execution_count": 12,
      "outputs": [
        {
          "output_type": "stream",
          "text": [
            "(21005, 48, 48, 1)\n",
            "(21005,)\n",
            "(2622, 48, 48, 1)\n",
            "(2622,)\n"
          ],
          "name": "stdout"
        }
      ]
    },
    {
      "cell_type": "code",
      "metadata": {
        "id": "TqirFbWsP5FL",
        "colab_type": "code",
        "colab": {}
      },
      "source": [
        "# List of labels\n",
        "emotion_table = {'0' : 'anger',     # 4953\n",
        "                 '1' : 'happy',     # 8989\n",
        "                 '2' : 'sad',       # 6077\n",
        "                 '3' : 'neutral'}   # 6198\n",
        "\n",
        "# Setup important information for the model\n",
        "num_classes = len(emotion_table)\n",
        "batch_size = 128\n",
        "epochs = 25"
      ],
      "execution_count": 0,
      "outputs": []
    },
    {
      "cell_type": "code",
      "metadata": {
        "id": "8kIOVMgxsx94",
        "colab_type": "code",
        "colab": {}
      },
      "source": [
        "# Labels\n",
        "Y_train = to_categorical(Y_train, num_classes)\n",
        "Y_test = to_categorical(Y_test, num_classes)\n",
        "input_shape = (48, 48, 1)"
      ],
      "execution_count": 0,
      "outputs": []
    },
    {
      "cell_type": "code",
      "metadata": {
        "id": "M49cyb71s_FN",
        "colab_type": "code",
        "colab": {}
      },
      "source": [
        "# Building the network ---------------------------------------------\n",
        "\n",
        "# Model\n",
        "def createAndRun(llambda):\n",
        "   model = models.Sequential()\n",
        "   model.add(layers.Conv2D(32, (3, 3), activation='relu', input_shape=input_shape))\n",
        "   model.add(layers.MaxPooling2D((2, 2)))\n",
        "   model.add(layers.Conv2D(64, (3, 3), activation='relu'))\n",
        "   model.add(layers.MaxPooling2D((2, 2)))\n",
        "   model.add(layers.Conv2D(128, (3, 3), activation='relu'))\n",
        "   model.add(layers.MaxPooling2D((2, 2)))\n",
        "   model.add(layers.Dropout(0.25))\n",
        "   model.add(layers.Conv2D(128, (3, 3), activation='relu'))\n",
        "   model.add(layers.MaxPooling2D((2, 2)))\n",
        "   model.add(layers.Flatten())\n",
        "   model.add(layers.Dropout(0.25))\n",
        "   model.add(layers.Dense(512, kernel_regularizer=regularizers.l2(llambda), activation='relu'))\n",
        "   model.add(layers.Dropout(0.4))\n",
        "   model.add(layers.Dense(num_classes, activation='sigmoid'))\n",
        "   \n",
        "   # Print summary\n",
        "   model.summary()\n",
        "   \n",
        "   # Compilation\n",
        "   model.compile(loss='categorical_crossentropy', optimizer='adam', metrics=['acc'])\n",
        "   \n",
        "   # Data pre-processing \n",
        "   history = model.fit(X_train, Y_train,\n",
        "                       batch_size= batch_size,\n",
        "                       epochs=epochs,\n",
        "                       verbose=1, \n",
        "                       validation_data=(X_test, Y_test))\n",
        "   \n",
        "   \n",
        "   # Save model after training\n",
        "   model.save('facial_expressions_l2_'+str(llambda)+'.h5')\n",
        "   \n",
        "   return history\n"
      ],
      "execution_count": 0,
      "outputs": []
    },
    {
      "cell_type": "code",
      "metadata": {
        "id": "qgH0mQtT0qWF",
        "colab_type": "code",
        "colab": {
          "base_uri": "https://localhost:8080/",
          "height": 1000
        },
        "outputId": "a9347fa2-7fd2-43c0-aebb-abeabbd04cec"
      },
      "source": [
        "# Create and run model ---------------------------------------\n",
        "\n",
        "history1 = createAndRun(0.001)"
      ],
      "execution_count": 16,
      "outputs": [
        {
          "output_type": "stream",
          "text": [
            "WARNING:tensorflow:From /usr/local/lib/python3.6/dist-packages/keras/backend/tensorflow_backend.py:66: The name tf.get_default_graph is deprecated. Please use tf.compat.v1.get_default_graph instead.\n",
            "\n",
            "WARNING:tensorflow:From /usr/local/lib/python3.6/dist-packages/keras/backend/tensorflow_backend.py:541: The name tf.placeholder is deprecated. Please use tf.compat.v1.placeholder instead.\n",
            "\n",
            "WARNING:tensorflow:From /usr/local/lib/python3.6/dist-packages/keras/backend/tensorflow_backend.py:4432: The name tf.random_uniform is deprecated. Please use tf.random.uniform instead.\n",
            "\n",
            "WARNING:tensorflow:From /usr/local/lib/python3.6/dist-packages/keras/backend/tensorflow_backend.py:4267: The name tf.nn.max_pool is deprecated. Please use tf.nn.max_pool2d instead.\n",
            "\n",
            "WARNING:tensorflow:From /usr/local/lib/python3.6/dist-packages/keras/backend/tensorflow_backend.py:148: The name tf.placeholder_with_default is deprecated. Please use tf.compat.v1.placeholder_with_default instead.\n",
            "\n",
            "WARNING:tensorflow:From /usr/local/lib/python3.6/dist-packages/keras/backend/tensorflow_backend.py:3733: calling dropout (from tensorflow.python.ops.nn_ops) with keep_prob is deprecated and will be removed in a future version.\n",
            "Instructions for updating:\n",
            "Please use `rate` instead of `keep_prob`. Rate should be set to `rate = 1 - keep_prob`.\n",
            "Model: \"sequential_1\"\n",
            "_________________________________________________________________\n",
            "Layer (type)                 Output Shape              Param #   \n",
            "=================================================================\n",
            "conv2d_1 (Conv2D)            (None, 46, 46, 32)        320       \n",
            "_________________________________________________________________\n",
            "max_pooling2d_1 (MaxPooling2 (None, 23, 23, 32)        0         \n",
            "_________________________________________________________________\n",
            "conv2d_2 (Conv2D)            (None, 21, 21, 64)        18496     \n",
            "_________________________________________________________________\n",
            "max_pooling2d_2 (MaxPooling2 (None, 10, 10, 64)        0         \n",
            "_________________________________________________________________\n",
            "conv2d_3 (Conv2D)            (None, 8, 8, 128)         73856     \n",
            "_________________________________________________________________\n",
            "max_pooling2d_3 (MaxPooling2 (None, 4, 4, 128)         0         \n",
            "_________________________________________________________________\n",
            "dropout_1 (Dropout)          (None, 4, 4, 128)         0         \n",
            "_________________________________________________________________\n",
            "conv2d_4 (Conv2D)            (None, 2, 2, 128)         147584    \n",
            "_________________________________________________________________\n",
            "max_pooling2d_4 (MaxPooling2 (None, 1, 1, 128)         0         \n",
            "_________________________________________________________________\n",
            "flatten_1 (Flatten)          (None, 128)               0         \n",
            "_________________________________________________________________\n",
            "dropout_2 (Dropout)          (None, 128)               0         \n",
            "_________________________________________________________________\n",
            "dense_1 (Dense)              (None, 512)               66048     \n",
            "_________________________________________________________________\n",
            "dropout_3 (Dropout)          (None, 512)               0         \n",
            "_________________________________________________________________\n",
            "dense_2 (Dense)              (None, 4)                 2052      \n",
            "=================================================================\n",
            "Total params: 308,356\n",
            "Trainable params: 308,356\n",
            "Non-trainable params: 0\n",
            "_________________________________________________________________\n",
            "WARNING:tensorflow:From /usr/local/lib/python3.6/dist-packages/keras/optimizers.py:793: The name tf.train.Optimizer is deprecated. Please use tf.compat.v1.train.Optimizer instead.\n",
            "\n",
            "WARNING:tensorflow:From /usr/local/lib/python3.6/dist-packages/keras/backend/tensorflow_backend.py:3576: The name tf.log is deprecated. Please use tf.math.log instead.\n",
            "\n",
            "WARNING:tensorflow:From /usr/local/lib/python3.6/dist-packages/tensorflow/python/ops/math_grad.py:1250: add_dispatch_support.<locals>.wrapper (from tensorflow.python.ops.array_ops) is deprecated and will be removed in a future version.\n",
            "Instructions for updating:\n",
            "Use tf.where in 2.0, which has the same broadcast rule as np.where\n",
            "Train on 21005 samples, validate on 2622 samples\n",
            "Epoch 1/25\n",
            "21005/21005 [==============================] - 76s 4ms/step - loss: 1.4219 - acc: 0.3425 - val_loss: 1.3569 - val_acc: 0.3524\n",
            "Epoch 2/25\n",
            "21005/21005 [==============================] - 75s 4ms/step - loss: 1.3349 - acc: 0.3678 - val_loss: 1.2782 - val_acc: 0.4184\n",
            "Epoch 3/25\n",
            "21005/21005 [==============================] - 76s 4ms/step - loss: 1.1896 - acc: 0.4744 - val_loss: 1.1133 - val_acc: 0.5065\n",
            "Epoch 4/25\n",
            "21005/21005 [==============================] - 75s 4ms/step - loss: 1.0784 - acc: 0.5312 - val_loss: 1.0773 - val_acc: 0.5313\n",
            "Epoch 5/25\n",
            "21005/21005 [==============================] - 76s 4ms/step - loss: 1.0214 - acc: 0.5557 - val_loss: 0.9978 - val_acc: 0.5576\n",
            "Epoch 6/25\n",
            "21005/21005 [==============================] - 76s 4ms/step - loss: 0.9790 - acc: 0.5824 - val_loss: 0.9659 - val_acc: 0.5934\n",
            "Epoch 7/25\n",
            "21005/21005 [==============================] - 76s 4ms/step - loss: 0.9379 - acc: 0.6083 - val_loss: 0.9189 - val_acc: 0.6072\n",
            "Epoch 8/25\n",
            "21005/21005 [==============================] - 75s 4ms/step - loss: 0.9020 - acc: 0.6241 - val_loss: 0.9253 - val_acc: 0.6182\n",
            "Epoch 9/25\n",
            "21005/21005 [==============================] - 75s 4ms/step - loss: 0.8818 - acc: 0.6340 - val_loss: 0.8876 - val_acc: 0.6354\n",
            "Epoch 10/25\n",
            "21005/21005 [==============================] - 76s 4ms/step - loss: 0.8573 - acc: 0.6504 - val_loss: 0.8817 - val_acc: 0.6373\n",
            "Epoch 11/25\n",
            "21005/21005 [==============================] - 76s 4ms/step - loss: 0.8418 - acc: 0.6572 - val_loss: 0.8585 - val_acc: 0.6545\n",
            "Epoch 12/25\n",
            "21005/21005 [==============================] - 75s 4ms/step - loss: 0.8218 - acc: 0.6656 - val_loss: 0.8544 - val_acc: 0.6484\n",
            "Epoch 13/25\n",
            "21005/21005 [==============================] - 76s 4ms/step - loss: 0.7988 - acc: 0.6767 - val_loss: 0.8539 - val_acc: 0.6533\n",
            "Epoch 14/25\n",
            "21005/21005 [==============================] - 75s 4ms/step - loss: 0.7831 - acc: 0.6845 - val_loss: 0.8281 - val_acc: 0.6663\n",
            "Epoch 15/25\n",
            "21005/21005 [==============================] - 76s 4ms/step - loss: 0.7727 - acc: 0.6909 - val_loss: 0.8419 - val_acc: 0.6590\n",
            "Epoch 16/25\n",
            "21005/21005 [==============================] - 75s 4ms/step - loss: 0.7599 - acc: 0.6943 - val_loss: 0.8580 - val_acc: 0.6499\n",
            "Epoch 17/25\n",
            "21005/21005 [==============================] - 75s 4ms/step - loss: 0.7508 - acc: 0.6991 - val_loss: 0.8265 - val_acc: 0.6724\n",
            "Epoch 18/25\n",
            "21005/21005 [==============================] - 75s 4ms/step - loss: 0.7327 - acc: 0.7091 - val_loss: 0.8270 - val_acc: 0.6754\n",
            "Epoch 19/25\n",
            "21005/21005 [==============================] - 76s 4ms/step - loss: 0.7134 - acc: 0.7190 - val_loss: 0.8290 - val_acc: 0.6670\n",
            "Epoch 20/25\n",
            "21005/21005 [==============================] - 76s 4ms/step - loss: 0.7016 - acc: 0.7241 - val_loss: 0.8443 - val_acc: 0.6690\n",
            "Epoch 21/25\n",
            "21005/21005 [==============================] - 76s 4ms/step - loss: 0.6842 - acc: 0.7320 - val_loss: 0.8415 - val_acc: 0.6663\n",
            "Epoch 22/25\n",
            "21005/21005 [==============================] - 76s 4ms/step - loss: 0.6739 - acc: 0.7354 - val_loss: 0.8210 - val_acc: 0.6766\n",
            "Epoch 23/25\n",
            "21005/21005 [==============================] - 76s 4ms/step - loss: 0.6575 - acc: 0.7440 - val_loss: 0.8319 - val_acc: 0.6690\n",
            "Epoch 24/25\n",
            "21005/21005 [==============================] - 76s 4ms/step - loss: 0.6532 - acc: 0.7490 - val_loss: 0.8437 - val_acc: 0.6728\n",
            "Epoch 25/25\n",
            "21005/21005 [==============================] - 76s 4ms/step - loss: 0.6464 - acc: 0.7476 - val_loss: 0.8628 - val_acc: 0.6667\n"
          ],
          "name": "stdout"
        }
      ]
    },
    {
      "cell_type": "code",
      "metadata": {
        "id": "P0ksMir21Gv0",
        "colab_type": "code",
        "colab": {
          "base_uri": "https://localhost:8080/",
          "height": 1000
        },
        "outputId": "6b6b7f94-e659-4f87-eeae-8a9ad4d1dfa7"
      },
      "source": [
        "history2 = createAndRun(0.0005)"
      ],
      "execution_count": 17,
      "outputs": [
        {
          "output_type": "stream",
          "text": [
            "Model: \"sequential_2\"\n",
            "_________________________________________________________________\n",
            "Layer (type)                 Output Shape              Param #   \n",
            "=================================================================\n",
            "conv2d_5 (Conv2D)            (None, 46, 46, 32)        320       \n",
            "_________________________________________________________________\n",
            "max_pooling2d_5 (MaxPooling2 (None, 23, 23, 32)        0         \n",
            "_________________________________________________________________\n",
            "conv2d_6 (Conv2D)            (None, 21, 21, 64)        18496     \n",
            "_________________________________________________________________\n",
            "max_pooling2d_6 (MaxPooling2 (None, 10, 10, 64)        0         \n",
            "_________________________________________________________________\n",
            "conv2d_7 (Conv2D)            (None, 8, 8, 128)         73856     \n",
            "_________________________________________________________________\n",
            "max_pooling2d_7 (MaxPooling2 (None, 4, 4, 128)         0         \n",
            "_________________________________________________________________\n",
            "dropout_4 (Dropout)          (None, 4, 4, 128)         0         \n",
            "_________________________________________________________________\n",
            "conv2d_8 (Conv2D)            (None, 2, 2, 128)         147584    \n",
            "_________________________________________________________________\n",
            "max_pooling2d_8 (MaxPooling2 (None, 1, 1, 128)         0         \n",
            "_________________________________________________________________\n",
            "flatten_2 (Flatten)          (None, 128)               0         \n",
            "_________________________________________________________________\n",
            "dropout_5 (Dropout)          (None, 128)               0         \n",
            "_________________________________________________________________\n",
            "dense_3 (Dense)              (None, 512)               66048     \n",
            "_________________________________________________________________\n",
            "dropout_6 (Dropout)          (None, 512)               0         \n",
            "_________________________________________________________________\n",
            "dense_4 (Dense)              (None, 4)                 2052      \n",
            "=================================================================\n",
            "Total params: 308,356\n",
            "Trainable params: 308,356\n",
            "Non-trainable params: 0\n",
            "_________________________________________________________________\n",
            "Train on 21005 samples, validate on 2622 samples\n",
            "Epoch 1/25\n",
            "21005/21005 [==============================] - 76s 4ms/step - loss: 1.4011 - acc: 0.3433 - val_loss: 1.3546 - val_acc: 0.3432\n",
            "Epoch 2/25\n",
            "21005/21005 [==============================] - 76s 4ms/step - loss: 1.3255 - acc: 0.3884 - val_loss: 1.2637 - val_acc: 0.4333\n",
            "Epoch 3/25\n",
            "21005/21005 [==============================] - 76s 4ms/step - loss: 1.1951 - acc: 0.4759 - val_loss: 1.1727 - val_acc: 0.4722\n",
            "Epoch 4/25\n",
            "21005/21005 [==============================] - 76s 4ms/step - loss: 1.1076 - acc: 0.5135 - val_loss: 1.0633 - val_acc: 0.5374\n",
            "Epoch 5/25\n",
            "21005/21005 [==============================] - 77s 4ms/step - loss: 1.0413 - acc: 0.5534 - val_loss: 1.0136 - val_acc: 0.5759\n",
            "Epoch 6/25\n",
            "21005/21005 [==============================] - 76s 4ms/step - loss: 0.9919 - acc: 0.5815 - val_loss: 1.0092 - val_acc: 0.5637\n",
            "Epoch 7/25\n",
            "21005/21005 [==============================] - 76s 4ms/step - loss: 0.9522 - acc: 0.6000 - val_loss: 0.9575 - val_acc: 0.5980\n",
            "Epoch 8/25\n",
            "21005/21005 [==============================] - 76s 4ms/step - loss: 0.9262 - acc: 0.6158 - val_loss: 0.9092 - val_acc: 0.6140\n",
            "Epoch 9/25\n",
            "21005/21005 [==============================] - 76s 4ms/step - loss: 0.9012 - acc: 0.6268 - val_loss: 0.9113 - val_acc: 0.6255\n",
            "Epoch 10/25\n",
            "21005/21005 [==============================] - 76s 4ms/step - loss: 0.8764 - acc: 0.6382 - val_loss: 0.8724 - val_acc: 0.6407\n",
            "Epoch 11/25\n",
            "21005/21005 [==============================] - 77s 4ms/step - loss: 0.8502 - acc: 0.6514 - val_loss: 0.8767 - val_acc: 0.6339\n",
            "Epoch 12/25\n",
            "21005/21005 [==============================] - 76s 4ms/step - loss: 0.8333 - acc: 0.6589 - val_loss: 0.8688 - val_acc: 0.6415\n",
            "Epoch 13/25\n",
            "21005/21005 [==============================] - 76s 4ms/step - loss: 0.8176 - acc: 0.6681 - val_loss: 0.8587 - val_acc: 0.6480\n",
            "Epoch 14/25\n",
            "21005/21005 [==============================] - 76s 4ms/step - loss: 0.8028 - acc: 0.6752 - val_loss: 0.8562 - val_acc: 0.6526\n",
            "Epoch 15/25\n",
            "21005/21005 [==============================] - 76s 4ms/step - loss: 0.7814 - acc: 0.6846 - val_loss: 0.8450 - val_acc: 0.6571\n",
            "Epoch 16/25\n",
            "21005/21005 [==============================] - 76s 4ms/step - loss: 0.7682 - acc: 0.6925 - val_loss: 0.8430 - val_acc: 0.6564\n",
            "Epoch 17/25\n",
            "21005/21005 [==============================] - 76s 4ms/step - loss: 0.7477 - acc: 0.7001 - val_loss: 0.8319 - val_acc: 0.6621\n",
            "Epoch 18/25\n",
            "21005/21005 [==============================] - 76s 4ms/step - loss: 0.7388 - acc: 0.7073 - val_loss: 0.8360 - val_acc: 0.6583\n",
            "Epoch 19/25\n",
            "21005/21005 [==============================] - 77s 4ms/step - loss: 0.7255 - acc: 0.7127 - val_loss: 0.8413 - val_acc: 0.6575\n",
            "Epoch 20/25\n",
            "21005/21005 [==============================] - 76s 4ms/step - loss: 0.7051 - acc: 0.7224 - val_loss: 0.8531 - val_acc: 0.6529\n",
            "Epoch 21/25\n",
            "21005/21005 [==============================] - 76s 4ms/step - loss: 0.6973 - acc: 0.7267 - val_loss: 0.8635 - val_acc: 0.6575\n",
            "Epoch 22/25\n",
            "21005/21005 [==============================] - 76s 4ms/step - loss: 0.6799 - acc: 0.7347 - val_loss: 0.8531 - val_acc: 0.6506\n",
            "Epoch 23/25\n",
            "21005/21005 [==============================] - 77s 4ms/step - loss: 0.6660 - acc: 0.7373 - val_loss: 0.8493 - val_acc: 0.6651\n",
            "Epoch 24/25\n",
            "21005/21005 [==============================] - 77s 4ms/step - loss: 0.6560 - acc: 0.7451 - val_loss: 0.8245 - val_acc: 0.6678\n",
            "Epoch 25/25\n",
            "21005/21005 [==============================] - 77s 4ms/step - loss: 0.6366 - acc: 0.7536 - val_loss: 0.8509 - val_acc: 0.6640\n"
          ],
          "name": "stdout"
        }
      ]
    },
    {
      "cell_type": "code",
      "metadata": {
        "id": "nw4CgrKE9dVM",
        "colab_type": "code",
        "colab": {
          "base_uri": "https://localhost:8080/",
          "height": 1000
        },
        "outputId": "8b51765d-f3e0-4cf1-b51a-5547a5c800e6"
      },
      "source": [
        "history3 = createAndRun(0.0001)"
      ],
      "execution_count": 18,
      "outputs": [
        {
          "output_type": "stream",
          "text": [
            "Model: \"sequential_3\"\n",
            "_________________________________________________________________\n",
            "Layer (type)                 Output Shape              Param #   \n",
            "=================================================================\n",
            "conv2d_9 (Conv2D)            (None, 46, 46, 32)        320       \n",
            "_________________________________________________________________\n",
            "max_pooling2d_9 (MaxPooling2 (None, 23, 23, 32)        0         \n",
            "_________________________________________________________________\n",
            "conv2d_10 (Conv2D)           (None, 21, 21, 64)        18496     \n",
            "_________________________________________________________________\n",
            "max_pooling2d_10 (MaxPooling (None, 10, 10, 64)        0         \n",
            "_________________________________________________________________\n",
            "conv2d_11 (Conv2D)           (None, 8, 8, 128)         73856     \n",
            "_________________________________________________________________\n",
            "max_pooling2d_11 (MaxPooling (None, 4, 4, 128)         0         \n",
            "_________________________________________________________________\n",
            "dropout_7 (Dropout)          (None, 4, 4, 128)         0         \n",
            "_________________________________________________________________\n",
            "conv2d_12 (Conv2D)           (None, 2, 2, 128)         147584    \n",
            "_________________________________________________________________\n",
            "max_pooling2d_12 (MaxPooling (None, 1, 1, 128)         0         \n",
            "_________________________________________________________________\n",
            "flatten_3 (Flatten)          (None, 128)               0         \n",
            "_________________________________________________________________\n",
            "dropout_8 (Dropout)          (None, 128)               0         \n",
            "_________________________________________________________________\n",
            "dense_5 (Dense)              (None, 512)               66048     \n",
            "_________________________________________________________________\n",
            "dropout_9 (Dropout)          (None, 512)               0         \n",
            "_________________________________________________________________\n",
            "dense_6 (Dense)              (None, 4)                 2052      \n",
            "=================================================================\n",
            "Total params: 308,356\n",
            "Trainable params: 308,356\n",
            "Non-trainable params: 0\n",
            "_________________________________________________________________\n",
            "Train on 21005 samples, validate on 2622 samples\n",
            "Epoch 1/25\n",
            "21005/21005 [==============================] - 77s 4ms/step - loss: 1.3748 - acc: 0.3452 - val_loss: 1.3589 - val_acc: 0.3482\n",
            "Epoch 2/25\n",
            "21005/21005 [==============================] - 76s 4ms/step - loss: 1.3255 - acc: 0.3793 - val_loss: 1.2246 - val_acc: 0.4550\n",
            "Epoch 3/25\n",
            "21005/21005 [==============================] - 77s 4ms/step - loss: 1.1884 - acc: 0.4719 - val_loss: 1.1326 - val_acc: 0.4973\n",
            "Epoch 4/25\n",
            "21005/21005 [==============================] - 76s 4ms/step - loss: 1.1110 - acc: 0.5098 - val_loss: 1.0628 - val_acc: 0.5393\n",
            "Epoch 5/25\n",
            "21005/21005 [==============================] - 77s 4ms/step - loss: 1.0567 - acc: 0.5436 - val_loss: 1.0198 - val_acc: 0.5492\n",
            "Epoch 6/25\n",
            "21005/21005 [==============================] - 77s 4ms/step - loss: 1.0163 - acc: 0.5624 - val_loss: 0.9861 - val_acc: 0.5835\n",
            "Epoch 7/25\n",
            "21005/21005 [==============================] - 77s 4ms/step - loss: 0.9754 - acc: 0.5827 - val_loss: 0.9531 - val_acc: 0.5965\n",
            "Epoch 8/25\n",
            "21005/21005 [==============================] - 77s 4ms/step - loss: 0.9481 - acc: 0.5985 - val_loss: 0.9428 - val_acc: 0.6049\n",
            "Epoch 9/25\n",
            "21005/21005 [==============================] - 77s 4ms/step - loss: 0.9255 - acc: 0.6124 - val_loss: 0.9129 - val_acc: 0.6156\n",
            "Epoch 10/25\n",
            "21005/21005 [==============================] - 77s 4ms/step - loss: 0.8990 - acc: 0.6247 - val_loss: 0.9147 - val_acc: 0.6228\n",
            "Epoch 11/25\n",
            "21005/21005 [==============================] - 76s 4ms/step - loss: 0.8817 - acc: 0.6315 - val_loss: 0.8787 - val_acc: 0.6278\n",
            "Epoch 12/25\n",
            "21005/21005 [==============================] - 76s 4ms/step - loss: 0.8622 - acc: 0.6441 - val_loss: 0.8839 - val_acc: 0.6312\n",
            "Epoch 13/25\n",
            "21005/21005 [==============================] - 77s 4ms/step - loss: 0.8448 - acc: 0.6512 - val_loss: 0.8718 - val_acc: 0.6331\n",
            "Epoch 14/25\n",
            "21005/21005 [==============================] - 76s 4ms/step - loss: 0.8297 - acc: 0.6608 - val_loss: 0.8551 - val_acc: 0.6419\n",
            "Epoch 15/25\n",
            "21005/21005 [==============================] - 77s 4ms/step - loss: 0.8146 - acc: 0.6706 - val_loss: 0.8476 - val_acc: 0.6552\n",
            "Epoch 16/25\n",
            "21005/21005 [==============================] - 76s 4ms/step - loss: 0.8034 - acc: 0.6724 - val_loss: 0.8515 - val_acc: 0.6442\n",
            "Epoch 17/25\n",
            "21005/21005 [==============================] - 76s 4ms/step - loss: 0.7930 - acc: 0.6816 - val_loss: 0.8459 - val_acc: 0.6472\n",
            "Epoch 18/25\n",
            "21005/21005 [==============================] - 77s 4ms/step - loss: 0.7705 - acc: 0.6895 - val_loss: 0.8389 - val_acc: 0.6575\n",
            "Epoch 19/25\n",
            "21005/21005 [==============================] - 76s 4ms/step - loss: 0.7629 - acc: 0.6944 - val_loss: 0.8353 - val_acc: 0.6613\n",
            "Epoch 20/25\n",
            "21005/21005 [==============================] - 76s 4ms/step - loss: 0.7531 - acc: 0.6951 - val_loss: 0.8339 - val_acc: 0.6659\n",
            "Epoch 21/25\n",
            "21005/21005 [==============================] - 76s 4ms/step - loss: 0.7378 - acc: 0.7028 - val_loss: 0.8286 - val_acc: 0.6659\n",
            "Epoch 22/25\n",
            "21005/21005 [==============================] - 76s 4ms/step - loss: 0.7268 - acc: 0.7095 - val_loss: 0.8367 - val_acc: 0.6629\n",
            "Epoch 23/25\n",
            "21005/21005 [==============================] - 77s 4ms/step - loss: 0.7179 - acc: 0.7152 - val_loss: 0.8320 - val_acc: 0.6621\n",
            "Epoch 24/25\n",
            "21005/21005 [==============================] - 76s 4ms/step - loss: 0.7057 - acc: 0.7197 - val_loss: 0.8227 - val_acc: 0.6743\n",
            "Epoch 25/25\n",
            "21005/21005 [==============================] - 76s 4ms/step - loss: 0.7015 - acc: 0.7192 - val_loss: 0.8303 - val_acc: 0.6663\n"
          ],
          "name": "stdout"
        }
      ]
    },
    {
      "cell_type": "code",
      "metadata": {
        "id": "bYrEqnDwE6PT",
        "colab_type": "code",
        "colab": {}
      },
      "source": [
        "all_history = {'0.001':history1,'0.005':history2,'0.0001':history3}\n"
      ],
      "execution_count": 0,
      "outputs": []
    },
    {
      "cell_type": "code",
      "metadata": {
        "id": "cc-TRquVaSh5",
        "colab_type": "code",
        "colab": {
          "base_uri": "https://localhost:8080/",
          "height": 595
        },
        "outputId": "27d6d0f7-9954-431a-88b2-0062fd0d34e8"
      },
      "source": [
        "# Create Plots ----------------------------------------------\n",
        "\n",
        "color = {'0.001':'r','0.005':'b','0.0001':'g'}\n",
        "\n",
        "for val in color.keys():\n",
        "   acc = all_history[val].history['acc']\n",
        "   val_acc = all_history[val].history['val_acc']\n",
        "   plt.plot(range(1,epochs+1), acc, 'o'+color[val], label='Training acc: '+val)\n",
        "   plt.plot(range(1,epochs+1), val_acc, color[val], label='Validation acc: '+val)\n",
        "\n",
        "plt.title('Training and validation accuracy')\n",
        "plt.legend()\n",
        "\n",
        "plt.savefig('Training_and_validation_accuracy.png')\n",
        "plt.figure()\n",
        "\n",
        "\n",
        "\n",
        "for val in color.keys():\n",
        "   loss = all_history[val].history['loss']\n",
        "   val_loss = all_history[val].history['val_loss']\n",
        "   plt.plot(range(1,epochs+1), loss, 'o'+color[val], label='Training loss: '+val)\n",
        "   plt.plot(range(1,epochs+1), val_loss, color[val], label='Validation loss: '+val)\n",
        "\n",
        "plt.title('Training and validation loss')\n",
        "plt.legend()\n",
        "\n",
        "plt.savefig('Training_and_validation_loss.png')\n",
        "plt.show()\n",
        "\n",
        "# Results\n",
        "for val in color.keys():\n",
        "   val_acc = all_history[val].history['val_acc'][-1]\n",
        "   print('L2 value: ' +str(val) + ', Accuracy: ' + str(val_acc))\n"
      ],
      "execution_count": 20,
      "outputs": [
        {
          "output_type": "display_data",
          "data": {
            "image/png": "[encoded data removed]",
            "text/plain": [
              "<Figure size 432x288 with 1 Axes>"
            ]
          },
          "metadata": {
            "tags": []
          }
        },
        {
          "output_type": "display_data",
          "data": {
            "image/png": "[encoded data removed]",
            "text/plain": [
              "<Figure size 432x288 with 1 Axes>"
            ]
          },
          "metadata": {
            "tags": []
          }
        },
        {
          "output_type": "stream",
          "text": [
            "L2 value: 0.001, Accuracy: 0.666666667257712\n",
            "L2 value: 0.005, Accuracy: 0.6639969483938588\n",
            "L2 value: 0.0001, Accuracy: 0.6662852779133096\n"
          ],
          "name": "stdout"
        }
      ]
    },
    {
      "cell_type": "code",
      "metadata": {
        "id": "petyn-_UaVnq",
        "colab_type": "code",
        "colab": {}
      },
      "source": [
        ""
      ],
      "execution_count": 0,
      "outputs": []
    }
  ]
}
