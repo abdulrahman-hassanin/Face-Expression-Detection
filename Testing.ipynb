{
  "nbformat": 4,
  "nbformat_minor": 0,
  "metadata": {
    "colab": {
      "name": "Testing.ipynb",
      "provenance": [],
      "collapsed_sections": []
    },
    "kernelspec": {
      "name": "python3",
      "display_name": "Python 3"
    }
  },
  "cells": [
    {
      "cell_type": "code",
      "metadata": {
        "id": "zASNE7ODOqDB",
        "colab_type": "code",
        "outputId": "c9ed0c89-27dd-441d-b785-45e539fd635c",
        "colab": {
          "base_uri": "https://localhost:8080/",
          "height": 34
        }
      },
      "source": [
        "import keras\n",
        "import sys, os, shutil\n",
        "from keras import layers\n",
        "from keras import models\n",
        "from keras import optimizers\n",
        "from keras.preprocessing.image import ImageDataGenerator\n",
        "from keras.preprocessing import image\n",
        "from keras.models import load_model\n",
        "from keras.applications.imagenet_utils import preprocess_input\n",
        "import matplotlib.pyplot as plt\n",
        "from keras import regularizers\n",
        "from keras.utils.np_utils import to_categorical\n",
        "import csv\n",
        "from itertools import islice\n",
        "from math import ceil\n",
        "import numpy as np\n",
        "from keras import regularizers\n",
        "import pandas as pd\n",
        "import matplotlib.pyplot as plt\n",
        "from sklearn.utils import shuffle"
      ],
      "execution_count": 1,
      "outputs": [
        {
          "output_type": "stream",
          "text": [
            "Using TensorFlow backend.\n"
          ],
          "name": "stderr"
        }
      ]
    },
    {
      "cell_type": "code",
      "metadata": {
        "id": "ngMnCnjrMyDc",
        "colab_type": "code",
        "outputId": "97e3cdf0-aee3-4b50-bd75-f9e113316887",
        "colab": {
          "base_uri": "https://localhost:8080/",
          "height": 121
        }
      },
      "source": [
        "from google.colab import drive\n",
        "drive.mount('/content/drive')"
      ],
      "execution_count": 2,
      "outputs": [
        {
          "output_type": "stream",
          "text": [
            "Go to this URL in a browser: https://accounts.google.com/o/oauth2/auth?client_id=947318989803-6bn6qk8qdgf4n4g3pfee6491hc0brc4i.apps.googleusercontent.com&redirect_uri=urn%3Aietf%3Awg%3Aoauth%3A2.0%3Aoob&scope=email%20https%3A%2F%2Fwww.googleapis.com%2Fauth%2Fdocs.test%20https%3A%2F%2Fwww.googleapis.com%2Fauth%2Fdrive%20https%3A%2F%2Fwww.googleapis.com%2Fauth%2Fdrive.photos.readonly%20https%3A%2F%2Fwww.googleapis.com%2Fauth%2Fpeopleapi.readonly&response_type=code\n",
            "\n",
            "Enter your authorization code:\n",
            "··········\n",
            "Mounted at /content/drive\n"
          ],
          "name": "stdout"
        }
      ]
    },
    {
      "cell_type": "code",
      "metadata": {
        "id": "Hxn4x8ZOOmoJ",
        "colab_type": "code",
        "colab": {}
      },
      "source": [
        "data = pd.read_csv('/content/drive/My Drive/Colab Notebooks/Emotion Dataset/fer2013.csv')"
      ],
      "execution_count": 0,
      "outputs": []
    },
    {
      "cell_type": "code",
      "metadata": {
        "id": "Z5PhcfYvOycu",
        "colab_type": "code",
        "colab": {}
      },
      "source": [
        "# Simplify the emotions\n",
        "l1 = data.loc[data['emotion'] == 0]  # Angry\n",
        "l2 = data.loc[data['emotion'] == 3]  # Happy\n",
        "l3 = data.loc[data['emotion'] == 4]  # Sad\n",
        "l4 = data.loc[data['emotion'] == 6]  # Nuetral\n",
        "\n",
        "light = pd.concat([l1,l2,l3,l4])"
      ],
      "execution_count": 0,
      "outputs": []
    },
    {
      "cell_type": "code",
      "metadata": {
        "id": "YCTLkkvlO19h",
        "colab_type": "code",
        "outputId": "e511a572-a820-461f-f142-5d07cee6d5eb",
        "colab": {
          "base_uri": "https://localhost:8080/",
          "height": 101
        }
      },
      "source": [
        "# Fix values\n",
        "light.emotion.loc[(light['emotion'] == 3)] = 1\n",
        "light.emotion.loc[(light['emotion'] == 4)] = 2\n",
        "light.emotion.loc[(light['emotion'] == 6)] = 3\n",
        "\n",
        "# re-shuffle\n",
        "light = shuffle(light)"
      ],
      "execution_count": 5,
      "outputs": [
        {
          "output_type": "stream",
          "text": [
            "/usr/local/lib/python3.6/dist-packages/pandas/core/indexing.py:190: SettingWithCopyWarning: \n",
            "A value is trying to be set on a copy of a slice from a DataFrame\n",
            "\n",
            "See the caveats in the documentation: http://pandas.pydata.org/pandas-docs/stable/indexing.html#indexing-view-versus-copy\n",
            "  self._setitem_with_indexer(indexer, value)\n"
          ],
          "name": "stderr"
        }
      ]
    },
    {
      "cell_type": "code",
      "metadata": {
        "id": "iRqoHsAJO4PP",
        "colab_type": "code",
        "colab": {}
      },
      "source": [
        "training_data = light[light['Usage'].isin(['Training'])]\n",
        "testing_data = light[light['Usage'].isin(['PublicTest'])]\n"
      ],
      "execution_count": 0,
      "outputs": []
    },
    {
      "cell_type": "code",
      "metadata": {
        "id": "9zmrL0BWO60c",
        "colab_type": "code",
        "outputId": "2155048d-fff8-4ddf-912b-7799c7d7b1ce",
        "colab": {
          "base_uri": "https://localhost:8080/",
          "height": 34
        }
      },
      "source": [
        "print(training_data.shape, testing_data.shape)"
      ],
      "execution_count": 7,
      "outputs": [
        {
          "output_type": "stream",
          "text": [
            "(21005, 3) (2622, 3)\n"
          ],
          "name": "stdout"
        }
      ]
    },
    {
      "cell_type": "code",
      "metadata": {
        "id": "XN5t_YUGO_VF",
        "colab_type": "code",
        "colab": {}
      },
      "source": [
        "train_data = training_data.iloc[:,1]\n",
        "train_labels = training_data.iloc[:,0]\n",
        "test_data = testing_data.iloc[:,1]\n",
        "test_labels = testing_data.iloc[:,0]"
      ],
      "execution_count": 0,
      "outputs": []
    },
    {
      "cell_type": "code",
      "metadata": {
        "id": "KTEZGHB0PCVI",
        "colab_type": "code",
        "colab": {}
      },
      "source": [
        "# convert string into int and normalize data\n",
        "X_train = []\n",
        "X_test = []\n",
        "for row in range(len(train_data)):\n",
        "  temp = np.fromstring(train_data.iloc[row], dtype=int, sep=\" \").reshape((48, 48, 1))\n",
        "  temp = temp/255.\n",
        "  temp = np.array(temp)\n",
        "  X_train.append(temp)\n",
        "  \n",
        "for row in range(len(test_data)):\n",
        "  temp = np.fromstring(test_data.iloc[row], dtype=int, sep=\" \").reshape((48, 48, 1))\n",
        "  temp = temp/255.\n",
        "  temp = np.array(temp)\n",
        "  X_test.append(temp)\n",
        "  \n",
        "X_train = np.array(X_train)\n",
        "Y_train = np.array(train_labels)\n",
        "X_test = np.array(X_test)\n",
        "Y_test = np.array(test_labels)"
      ],
      "execution_count": 0,
      "outputs": []
    },
    {
      "cell_type": "code",
      "metadata": {
        "id": "dFg7VunaPJth",
        "colab_type": "code",
        "outputId": "c82f50f6-6f88-4d73-dd4f-ef215148671d",
        "colab": {
          "base_uri": "https://localhost:8080/",
          "height": 84
        }
      },
      "source": [
        "print(X_train.shape)\n",
        "print(Y_train.shape)\n",
        "print(X_test.shape)\n",
        "print(Y_test.shape)"
      ],
      "execution_count": 10,
      "outputs": [
        {
          "output_type": "stream",
          "text": [
            "(21005, 48, 48, 1)\n",
            "(21005,)\n",
            "(2622, 48, 48, 1)\n",
            "(2622,)\n"
          ],
          "name": "stdout"
        }
      ]
    },
    {
      "cell_type": "code",
      "metadata": {
        "id": "AVLBMgRSPOEk",
        "colab_type": "code",
        "colab": {}
      },
      "source": [
        "# List of labels\n",
        "emotion_table = {'0' : 'anger',     # 4953\n",
        "                 '1' : 'happy',     # 8989\n",
        "                 '2' : 'sad',       # 6077\n",
        "                 '3' : 'neutral'}   # 6198\n",
        "\n",
        "# Setup important information for the model\n",
        "num_classes = len(emotion_table)\n",
        "batch_size = 128\n",
        "epochs = 25\n",
        "\n",
        "# Labels\n",
        "Y_train = to_categorical(Y_train, num_classes)\n",
        "Y_test = to_categorical(Y_test, num_classes)\n",
        "input_shape = (48, 48, 1)"
      ],
      "execution_count": 0,
      "outputs": []
    },
    {
      "cell_type": "code",
      "metadata": {
        "id": "M4eWnMU2PU2o",
        "colab_type": "code",
        "outputId": "a0c7549d-5a7b-41e0-9f6e-e162fc787ce8",
        "colab": {
          "base_uri": "https://localhost:8080/",
          "height": 373
        }
      },
      "source": [
        "# Load Model --------------------------------------------------------\n",
        "model = load_model('facial_expressions_l2_0.001.h5')"
      ],
      "execution_count": 13,
      "outputs": [
        {
          "output_type": "stream",
          "text": [
            "WARNING:tensorflow:From /usr/local/lib/python3.6/dist-packages/keras/backend/tensorflow_backend.py:541: The name tf.placeholder is deprecated. Please use tf.compat.v1.placeholder instead.\n",
            "\n",
            "WARNING:tensorflow:From /usr/local/lib/python3.6/dist-packages/keras/backend/tensorflow_backend.py:4432: The name tf.random_uniform is deprecated. Please use tf.random.uniform instead.\n",
            "\n",
            "WARNING:tensorflow:From /usr/local/lib/python3.6/dist-packages/keras/backend/tensorflow_backend.py:4267: The name tf.nn.max_pool is deprecated. Please use tf.nn.max_pool2d instead.\n",
            "\n",
            "WARNING:tensorflow:From /usr/local/lib/python3.6/dist-packages/keras/backend/tensorflow_backend.py:66: The name tf.get_default_graph is deprecated. Please use tf.compat.v1.get_default_graph instead.\n",
            "\n",
            "WARNING:tensorflow:From /usr/local/lib/python3.6/dist-packages/keras/backend/tensorflow_backend.py:148: The name tf.placeholder_with_default is deprecated. Please use tf.compat.v1.placeholder_with_default instead.\n",
            "\n",
            "WARNING:tensorflow:From /usr/local/lib/python3.6/dist-packages/keras/backend/tensorflow_backend.py:3733: calling dropout (from tensorflow.python.ops.nn_ops) with keep_prob is deprecated and will be removed in a future version.\n",
            "Instructions for updating:\n",
            "Please use `rate` instead of `keep_prob`. Rate should be set to `rate = 1 - keep_prob`.\n",
            "WARNING:tensorflow:From /usr/local/lib/python3.6/dist-packages/keras/backend/tensorflow_backend.py:190: The name tf.get_default_session is deprecated. Please use tf.compat.v1.get_default_session instead.\n",
            "\n",
            "WARNING:tensorflow:From /usr/local/lib/python3.6/dist-packages/keras/optimizers.py:793: The name tf.train.Optimizer is deprecated. Please use tf.compat.v1.train.Optimizer instead.\n",
            "\n",
            "WARNING:tensorflow:From /usr/local/lib/python3.6/dist-packages/tensorflow/python/ops/math_grad.py:1250: add_dispatch_support.<locals>.wrapper (from tensorflow.python.ops.array_ops) is deprecated and will be removed in a future version.\n",
            "Instructions for updating:\n",
            "Use tf.where in 2.0, which has the same broadcast rule as np.where\n"
          ],
          "name": "stdout"
        }
      ]
    },
    {
      "cell_type": "code",
      "metadata": {
        "id": "fFY_pWPhP2ze",
        "colab_type": "code",
        "colab": {}
      },
      "source": [
        "import cv2\n",
        "import os\n",
        "import glob"
      ],
      "execution_count": 0,
      "outputs": []
    },
    {
      "cell_type": "code",
      "metadata": {
        "id": "MmKctTPzQEJi",
        "colab_type": "code",
        "outputId": "bd40db39-0181-427b-fa5e-d7e7d7d0d735",
        "colab": {
          "base_uri": "https://localhost:8080/",
          "height": 67
        }
      },
      "source": [
        "preds = model.evaluate(X_test, Y_test)\n",
        "print (\"Loss = \" + str(preds[0]))\n",
        "print (\"Test Accuracy = \" + str(preds[1]))"
      ],
      "execution_count": 15,
      "outputs": [
        {
          "output_type": "stream",
          "text": [
            "2622/2622 [==============================] - 3s 1ms/step\n",
            "Loss = 0.8627956582788836\n",
            "Test Accuracy = 0.6666666665757366\n"
          ],
          "name": "stdout"
        }
      ]
    },
    {
      "cell_type": "code",
      "metadata": {
        "id": "azR4fIc4XKFS",
        "colab_type": "code",
        "outputId": "04dec7cf-3e69-4479-df52-60cd59d5a326",
        "colab": {
          "base_uri": "https://localhost:8080/",
          "height": 319
        }
      },
      "source": [
        "# Select image and print it\n",
        "image = X_test[400]\n",
        "show = np.reshape(image, (48, 48))\n",
        "show.shape\n",
        "print(plt.imshow(show))\n",
        "\n",
        "# Prediction\n",
        "image = np.reshape(image, (1, 48, 48, 1))\n",
        "pred = model.predict(image)\n",
        "print(pred)\n",
        "p = np.amax(pred)\n",
        "for i in range(len(pred[0])):\n",
        "  if(p == pred[0][i]):\n",
        "    i = str(i)\n",
        "    print(emotion_table[i])"
      ],
      "execution_count": 18,
      "outputs": [
        {
          "output_type": "stream",
          "text": [
            "AxesImage(54,36;334.8x217.44)\n",
            "[[0.02153616 0.57407206 0.00963013 0.00542168]]\n",
            "happy\n"
          ],
          "name": "stdout"
        },
        {
          "output_type": "display_data",
          "data": {
            "image/png": "[encoded data removed]",
            "text/plain": [
              "<Figure size 432x288 with 1 Axes>"
            ]
          },
          "metadata": {
            "tags": []
          }
        }
      ]
    }
  ]
}